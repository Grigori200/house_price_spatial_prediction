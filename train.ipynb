{
 "cells": [
  {
   "cell_type": "code",
   "execution_count": 3,
   "id": "initial_id",
   "metadata": {
    "collapsed": true,
    "ExecuteTime": {
     "end_time": "2024-02-16T22:32:36.751851Z",
     "start_time": "2024-02-16T22:32:36.625173Z"
    }
   },
   "outputs": [],
   "source": [
    "import pandas as pd\n",
    "\n",
    "import torch\n",
    "from torch import nn\n",
    "\n",
    "import os\n",
    "import sys\n",
    "module_path = os.path.abspath(os.path.join('.'))\n",
    "sys.path.append(module_path)\n",
    "\n",
    "from utils import *\n",
    "from model import SpatialModel"
   ]
  },
  {
   "cell_type": "code",
   "outputs": [],
   "source": [
    "df = pd.read_csv('oto_points.csv')"
   ],
   "metadata": {
    "collapsed": false,
    "ExecuteTime": {
     "end_time": "2024-02-16T22:32:40.678537Z",
     "start_time": "2024-02-16T22:32:39.978247Z"
    }
   },
   "id": "aaff923d3c4a539e",
   "execution_count": 4
  },
  {
   "cell_type": "code",
   "outputs": [],
   "source": [
    "smoothing = .001\n",
    "\n",
    "dist_df = df.filter(regex=\".*_closest\").apply(lambda x: 1 / (x + smoothing)).fillna(0)"
   ],
   "metadata": {
    "collapsed": false,
    "ExecuteTime": {
     "end_time": "2024-02-16T22:32:43.539188Z",
     "start_time": "2024-02-16T22:32:43.477955Z"
    }
   },
   "id": "d3ec8faa78a05fa5",
   "execution_count": 5
  },
  {
   "cell_type": "code",
   "outputs": [],
   "source": [
    "num_df = df.drop(columns=[\"address\", *dist_df.columns.tolist()])"
   ],
   "metadata": {
    "collapsed": false,
    "ExecuteTime": {
     "end_time": "2024-02-16T22:32:44.288078Z",
     "start_time": "2024-02-16T22:32:44.241232Z"
    }
   },
   "id": "1c908b762425cab8",
   "execution_count": 6
  },
  {
   "cell_type": "code",
   "outputs": [],
   "source": [
    "data = pd.concat((num_df, dist_df), axis=1)"
   ],
   "metadata": {
    "collapsed": false,
    "ExecuteTime": {
     "end_time": "2024-02-16T22:32:44.776687Z",
     "start_time": "2024-02-16T22:32:44.638932Z"
    }
   },
   "id": "7451bc62d95a49f9",
   "execution_count": 7
  },
  {
   "cell_type": "code",
   "outputs": [],
   "source": [
    "train_data, test_data = split_data(data)\n",
    "x_train = train_data.drop(columns='price')\n",
    "y_train = train_data['price']\n",
    "x_test = test_data.drop(columns='price')\n",
    "y_test = test_data['price']\n",
    "\n",
    "train_dl, test_dl = to_dataloaders(x_train, y_train, x_test, y_test)"
   ],
   "metadata": {
    "collapsed": false,
    "ExecuteTime": {
     "end_time": "2024-02-13T09:17:03.335632Z",
     "start_time": "2024-02-13T09:17:02.786250Z"
    }
   },
   "id": "3978474ae3bd200a",
   "execution_count": 8
  },
  {
   "cell_type": "code",
   "outputs": [],
   "source": [
    "from torchmetrics import R2Score\n",
    "\n",
    "loss_fn = nn.L1Loss()\n",
    "score_fn = R2Score()"
   ],
   "metadata": {
    "collapsed": false,
    "ExecuteTime": {
     "end_time": "2024-02-13T09:50:06.572517Z",
     "start_time": "2024-02-13T09:50:06.252913Z"
    }
   },
   "id": "e122133408aef1a3",
   "execution_count": 55
  },
  {
   "cell_type": "code",
   "outputs": [],
   "source": [
    "from tqdm import tqdm\n",
    "import numpy as np\n",
    "\n",
    "sizes = [2**k for k in range(5, 10)]\n",
    "base_model = SpatialModel(*sizes[:-1], *sizes[::-1])\n",
    "optimizer = torch.optim.Adam(base_model.parameters(), lr=1e-3)\n",
    "\n",
    "epochs = 50\n",
    "losses = list()\n",
    "scores = list()\n",
    "\n",
    "losses_test = list()\n",
    "scores_test = list()"
   ],
   "metadata": {
    "collapsed": false,
    "ExecuteTime": {
     "end_time": "2024-02-13T10:05:39.945486Z",
     "start_time": "2024-02-13T10:05:39.892298Z"
    }
   },
   "id": "8cb37e46dc99f86a",
   "execution_count": 70
  },
  {
   "cell_type": "code",
   "outputs": [
    {
     "name": "stderr",
     "output_type": "stream",
     "text": [
      "100%|██████████| 50/50 [04:23<00:00,  5.27s/it]\n"
     ]
    }
   ],
   "source": [
    "for _ in tqdm(range(epochs)):\n",
    "    epoch_loss = list()\n",
    "    epoch_score = list()\n",
    "    base_model.train()\n",
    "    for x, y in train_dl:\n",
    "        optimizer.zero_grad()\n",
    "        y_pred = base_model(x).flatten()\n",
    "        \n",
    "        loss = loss_fn(y_pred, y)\n",
    "        loss.backward()\n",
    "        optimizer.step()\n",
    "        \n",
    "        epoch_loss.append(loss.item())\n",
    "        epoch_score.append(score_fn(y_pred, y).item())\n",
    "        \n",
    "    losses.append(np.mean(epoch_loss))\n",
    "    scores.append(np.mean(epoch_score))\n",
    "    \n",
    "    epoch_loss = list()\n",
    "    epoch_score = list()\n",
    "    base_model.eval()\n",
    "    with torch.no_grad():\n",
    "        for x, y in test_dl:\n",
    "            y_pred = base_model(x).flatten()\n",
    "            loss = loss_fn(y_pred, y)        \n",
    "            epoch_loss.append(loss.item())\n",
    "            epoch_score.append(score_fn(y_pred, y).item())\n",
    "        \n",
    "    losses_test.append(np.mean(epoch_loss))\n",
    "    scores_test.append(np.mean(epoch_score))"
   ],
   "metadata": {
    "collapsed": false,
    "ExecuteTime": {
     "end_time": "2024-02-13T10:10:04.848470Z",
     "start_time": "2024-02-13T10:05:41.534694Z"
    }
   },
   "id": "5d41e08fa6a4330b",
   "execution_count": 71
  },
  {
   "cell_type": "code",
   "outputs": [
    {
     "name": "stderr",
     "output_type": "stream",
     "text": [
      "/var/folders/nm/kl8l86m164dfl1nn3zn_crpm0000gp/T/ipykernel_27316/1021500129.py:6: MatplotlibDeprecationWarning: savefig() got unexpected keyword argument \"dpi\" which is no longer supported as of 3.3 and will become an error two minor releases later\n",
      "  plt.savefig('loss.png')\n",
      "/var/folders/nm/kl8l86m164dfl1nn3zn_crpm0000gp/T/ipykernel_27316/1021500129.py:6: MatplotlibDeprecationWarning: savefig() got unexpected keyword argument \"facecolor\" which is no longer supported as of 3.3 and will become an error two minor releases later\n",
      "  plt.savefig('loss.png')\n",
      "/var/folders/nm/kl8l86m164dfl1nn3zn_crpm0000gp/T/ipykernel_27316/1021500129.py:6: MatplotlibDeprecationWarning: savefig() got unexpected keyword argument \"edgecolor\" which is no longer supported as of 3.3 and will become an error two minor releases later\n",
      "  plt.savefig('loss.png')\n",
      "/var/folders/nm/kl8l86m164dfl1nn3zn_crpm0000gp/T/ipykernel_27316/1021500129.py:6: MatplotlibDeprecationWarning: savefig() got unexpected keyword argument \"orientation\" which is no longer supported as of 3.3 and will become an error two minor releases later\n",
      "  plt.savefig('loss.png')\n",
      "/var/folders/nm/kl8l86m164dfl1nn3zn_crpm0000gp/T/ipykernel_27316/1021500129.py:6: MatplotlibDeprecationWarning: savefig() got unexpected keyword argument \"bbox_inches_restore\" which is no longer supported as of 3.3 and will become an error two minor releases later\n",
      "  plt.savefig('loss.png')\n",
      "/Users/mikolaj/Desktop/dev/lab/house_price_spatial_prediction/venv/lib/python3.11/site-packages/IPython/core/pylabtools.py:152: MatplotlibDeprecationWarning: savefig() got unexpected keyword argument \"orientation\" which is no longer supported as of 3.3 and will become an error two minor releases later\n",
      "  fig.canvas.print_figure(bytes_io, **kw)\n",
      "/Users/mikolaj/Desktop/dev/lab/house_price_spatial_prediction/venv/lib/python3.11/site-packages/IPython/core/pylabtools.py:152: MatplotlibDeprecationWarning: savefig() got unexpected keyword argument \"dpi\" which is no longer supported as of 3.3 and will become an error two minor releases later\n",
      "  fig.canvas.print_figure(bytes_io, **kw)\n",
      "/Users/mikolaj/Desktop/dev/lab/house_price_spatial_prediction/venv/lib/python3.11/site-packages/IPython/core/pylabtools.py:152: MatplotlibDeprecationWarning: savefig() got unexpected keyword argument \"facecolor\" which is no longer supported as of 3.3 and will become an error two minor releases later\n",
      "  fig.canvas.print_figure(bytes_io, **kw)\n",
      "/Users/mikolaj/Desktop/dev/lab/house_price_spatial_prediction/venv/lib/python3.11/site-packages/IPython/core/pylabtools.py:152: MatplotlibDeprecationWarning: savefig() got unexpected keyword argument \"edgecolor\" which is no longer supported as of 3.3 and will become an error two minor releases later\n",
      "  fig.canvas.print_figure(bytes_io, **kw)\n",
      "/Users/mikolaj/Desktop/dev/lab/house_price_spatial_prediction/venv/lib/python3.11/site-packages/IPython/core/pylabtools.py:152: MatplotlibDeprecationWarning: savefig() got unexpected keyword argument \"bbox_inches_restore\" which is no longer supported as of 3.3 and will become an error two minor releases later\n",
      "  fig.canvas.print_figure(bytes_io, **kw)\n"
     ]
    },
    {
     "data": {
      "text/plain": "<Figure size 640x480 with 1 Axes>",
      "image/png": "[encoded data removed]"
     },
     "metadata": {},
     "output_type": "display_data"
    }
   ],
   "source": [
    "import matplotlib.pyplot as plt\n",
    "\n",
    "plt.plot(losses, label='train')\n",
    "plt.plot(losses_test, label='test')\n",
    "plt.legend()\n",
    "plt.savefig('loss.png')"
   ],
   "metadata": {
    "collapsed": false,
    "ExecuteTime": {
     "end_time": "2024-02-13T10:19:36.077966Z",
     "start_time": "2024-02-13T10:19:34.711389Z"
    }
   },
   "id": "19a89603a551bb25",
   "execution_count": 76
  },
  {
   "cell_type": "code",
   "outputs": [
    {
     "data": {
      "text/plain": "[<matplotlib.lines.Line2D at 0x14d3376d0>]"
     },
     "execution_count": 73,
     "metadata": {},
     "output_type": "execute_result"
    },
    {
     "data": {
      "text/plain": "<Figure size 640x480 with 1 Axes>",
      "image/png": "[encoded data removed]"
     },
     "metadata": {},
     "output_type": "display_data"
    }
   ],
   "source": [
    "plt.plot(scores, label='train')\n",
    "plt.plot(scores_test, label='test')"
   ],
   "metadata": {
    "collapsed": false,
    "ExecuteTime": {
     "end_time": "2024-02-13T10:10:05.991844Z",
     "start_time": "2024-02-13T10:10:05.406021Z"
    }
   },
   "id": "e27e4089dcd1c2f3",
   "execution_count": 73
  },
  {
   "cell_type": "code",
   "outputs": [],
   "source": [
    "torch.save(base_model.state_dict(), 'log_model.pt')"
   ],
   "metadata": {
    "collapsed": false,
    "ExecuteTime": {
     "start_time": "2024-02-12T20:19:22.733346Z"
    }
   },
   "id": "cc0789e88716d5e9",
   "execution_count": null
  },
  {
   "cell_type": "code",
   "outputs": [],
   "source": [],
   "metadata": {
    "collapsed": false,
    "ExecuteTime": {
     "start_time": "2024-02-02T14:11:32.674214Z"
    }
   },
   "id": "275dc40d1e9786d4"
  }
 ],
 "metadata": {
  "kernelspec": {
   "display_name": "Python 3",
   "language": "python",
   "name": "python3"
  },
  "language_info": {
   "codemirror_mode": {
    "name": "ipython",
    "version": 2
   },
   "file_extension": ".py",
   "mimetype": "text/x-python",
   "name": "python",
   "nbconvert_exporter": "python",
   "pygments_lexer": "ipython2",
   "version": "2.7.6"
  }
 },
 "nbformat": 4,
 "nbformat_minor": 5
}
