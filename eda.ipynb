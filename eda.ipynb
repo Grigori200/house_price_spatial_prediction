{
 "cells": [
  {
   "cell_type": "code",
   "execution_count": 1,
   "id": "initial_id",
   "metadata": {
    "collapsed": true,
    "ExecuteTime": {
     "end_time": "2024-02-16T22:44:34.908519Z",
     "start_time": "2024-02-16T22:44:27.270046Z"
    }
   },
   "outputs": [],
   "source": [
    "import pandas as pd\n",
    "import numpy as np\n",
    "\n",
    "import seaborn as sns\n",
    "\n",
    "sns.set(rc={\"figure.figsize\": (10, 6)})\n",
    "sns.set_style(\"darkgrid\")\n",
    "\n",
    "import os\n",
    "import sys\n",
    "module_path = os.path.abspath(os.path.join('.'))\n",
    "sys.path.append(module_path)\n",
    "\n",
    "from utils import *\n",
    "from plot import *\n",
    "from model import SpatialModel"
   ]
  },
  {
   "cell_type": "code",
   "outputs": [
    {
     "data": {
      "text/plain": "      price  rooms  surface  \\\n0  610000.0      2    63.58   \n1  330000.0      1    28.63   \n2  450000.0      1    30.00   \n3  755000.0      1    47.42   \n4  499000.0      2    34.30   \n\n                                             address        lat        lng  \\\n0  pl. św. Macieja, Nadodrze, Śródmieście, Wrocła...  51.119903  17.035325   \n1  pl. św. Macieja, Nadodrze, Śródmieście, Wrocła...  51.119903  17.035325   \n2  pl. św. Macieja, Nadodrze, Śródmieście, Wrocła...  51.119903  17.035325   \n3  pl. św. Macieja, Nadodrze, Śródmieście, Wrocła...  51.119903  17.035325   \n4  Popowice Południowe, Fabryczna, Wrocław, dolno...  51.126858  16.986331   \n\n   store  store_closest  school  school_closest  ...  cafe  cafe_closest  gym  \\\n0     15      13.916640      12       85.439551  ...    19     44.081468   13   \n1     15      13.916640      12       85.439551  ...    19     44.081468   13   \n2     15      13.916640      12       85.439551  ...    19     44.081468   13   \n3     15      13.916640      12       85.439551  ...    19     44.081468   13   \n4     15      58.760925      13      174.189024  ...    19    222.701686   15   \n\n   gym_closest  church  church_closest  train_station  train_station_closest  \\\n0   116.215879      17      167.171816              2             516.682872   \n1   116.215879      17      167.171816              2             516.682872   \n2   116.215879      17      167.171816              2             516.682872   \n3   116.215879      17      167.171816              2             516.682872   \n4   180.152352       9      133.983686              0                    NaN   \n\n   transit_station  transit_station_closest  \n0               16                43.091362  \n1               16                43.091362  \n2               16                43.091362  \n3               16                43.091362  \n4               14               248.316037  \n\n[5 rows x 32 columns]",
      "text/html": "<div>\n<style scoped>\n    .dataframe tbody tr th:only-of-type {\n        vertical-align: middle;\n    }\n\n    .dataframe tbody tr th {\n        vertical-align: top;\n    }\n\n    .dataframe thead th {\n        text-align: right;\n    }\n</style>\n<table border=\"1\" class=\"dataframe\">\n  <thead>\n    <tr style=\"text-align: right;\">\n      <th></th>\n      <th>price</th>\n      <th>rooms</th>\n      <th>surface</th>\n      <th>address</th>\n      <th>lat</th>\n      <th>lng</th>\n      <th>store</th>\n      <th>store_closest</th>\n      <th>school</th>\n      <th>school_closest</th>\n      <th>...</th>\n      <th>cafe</th>\n      <th>cafe_closest</th>\n      <th>gym</th>\n      <th>gym_closest</th>\n      <th>church</th>\n      <th>church_closest</th>\n      <th>train_station</th>\n      <th>train_station_closest</th>\n      <th>transit_station</th>\n      <th>transit_station_closest</th>\n    </tr>\n  </thead>\n  <tbody>\n    <tr>\n      <th>0</th>\n      <td>610000.0</td>\n      <td>2</td>\n      <td>63.58</td>\n      <td>pl. św. Macieja, Nadodrze, Śródmieście, Wrocła...</td>\n      <td>51.119903</td>\n      <td>17.035325</td>\n      <td>15</td>\n      <td>13.916640</td>\n      <td>12</td>\n      <td>85.439551</td>\n      <td>...</td>\n      <td>19</td>\n      <td>44.081468</td>\n      <td>13</td>\n      <td>116.215879</td>\n      <td>17</td>\n      <td>167.171816</td>\n      <td>2</td>\n      <td>516.682872</td>\n      <td>16</td>\n      <td>43.091362</td>\n    </tr>\n    <tr>\n      <th>1</th>\n      <td>330000.0</td>\n      <td>1</td>\n      <td>28.63</td>\n      <td>pl. św. Macieja, Nadodrze, Śródmieście, Wrocła...</td>\n      <td>51.119903</td>\n      <td>17.035325</td>\n      <td>15</td>\n      <td>13.916640</td>\n      <td>12</td>\n      <td>85.439551</td>\n      <td>...</td>\n      <td>19</td>\n      <td>44.081468</td>\n      <td>13</td>\n      <td>116.215879</td>\n      <td>17</td>\n      <td>167.171816</td>\n      <td>2</td>\n      <td>516.682872</td>\n      <td>16</td>\n      <td>43.091362</td>\n    </tr>\n    <tr>\n      <th>2</th>\n      <td>450000.0</td>\n      <td>1</td>\n      <td>30.00</td>\n      <td>pl. św. Macieja, Nadodrze, Śródmieście, Wrocła...</td>\n      <td>51.119903</td>\n      <td>17.035325</td>\n      <td>15</td>\n      <td>13.916640</td>\n      <td>12</td>\n      <td>85.439551</td>\n      <td>...</td>\n      <td>19</td>\n      <td>44.081468</td>\n      <td>13</td>\n      <td>116.215879</td>\n      <td>17</td>\n      <td>167.171816</td>\n      <td>2</td>\n      <td>516.682872</td>\n      <td>16</td>\n      <td>43.091362</td>\n    </tr>\n    <tr>\n      <th>3</th>\n      <td>755000.0</td>\n      <td>1</td>\n      <td>47.42</td>\n      <td>pl. św. Macieja, Nadodrze, Śródmieście, Wrocła...</td>\n      <td>51.119903</td>\n      <td>17.035325</td>\n      <td>15</td>\n      <td>13.916640</td>\n      <td>12</td>\n      <td>85.439551</td>\n      <td>...</td>\n      <td>19</td>\n      <td>44.081468</td>\n      <td>13</td>\n      <td>116.215879</td>\n      <td>17</td>\n      <td>167.171816</td>\n      <td>2</td>\n      <td>516.682872</td>\n      <td>16</td>\n      <td>43.091362</td>\n    </tr>\n    <tr>\n      <th>4</th>\n      <td>499000.0</td>\n      <td>2</td>\n      <td>34.30</td>\n      <td>Popowice Południowe, Fabryczna, Wrocław, dolno...</td>\n      <td>51.126858</td>\n      <td>16.986331</td>\n      <td>15</td>\n      <td>58.760925</td>\n      <td>13</td>\n      <td>174.189024</td>\n      <td>...</td>\n      <td>19</td>\n      <td>222.701686</td>\n      <td>15</td>\n      <td>180.152352</td>\n      <td>9</td>\n      <td>133.983686</td>\n      <td>0</td>\n      <td>NaN</td>\n      <td>14</td>\n      <td>248.316037</td>\n    </tr>\n  </tbody>\n</table>\n<p>5 rows × 32 columns</p>\n</div>"
     },
     "execution_count": 2,
     "metadata": {},
     "output_type": "execute_result"
    }
   ],
   "source": [
    "df = pd.read_csv('oto_points.csv')\n",
    "df.head()"
   ],
   "metadata": {
    "collapsed": false,
    "ExecuteTime": {
     "end_time": "2024-02-16T22:44:35.168552Z",
     "start_time": "2024-02-16T22:44:34.918040Z"
    }
   },
   "id": "72fec23cba977b83",
   "execution_count": 2
  },
  {
   "cell_type": "code",
   "outputs": [],
   "source": [
    "coords = valid_address(df)"
   ],
   "metadata": {
    "collapsed": false,
    "ExecuteTime": {
     "end_time": "2024-02-16T22:44:35.366445Z",
     "start_time": "2024-02-16T22:44:35.158259Z"
    }
   },
   "id": "da119a6e6bd88b88",
   "execution_count": 3
  },
  {
   "cell_type": "code",
   "outputs": [],
   "source": [
    "coords['log_price'] = np.log10(coords['price'])"
   ],
   "metadata": {
    "collapsed": false,
    "ExecuteTime": {
     "end_time": "2024-02-16T22:44:35.452760Z",
     "start_time": "2024-02-16T22:44:35.234069Z"
    }
   },
   "id": "b5587703dde74e82",
   "execution_count": 4
  },
  {
   "cell_type": "code",
   "outputs": [],
   "source": [
    "quartiles = coords.groupby('valid_address')['log_price'].quantile(q=[0., .5, 1.]).reset_index(-1).rename(columns={'level_1': 'q'})"
   ],
   "metadata": {
    "collapsed": false,
    "ExecuteTime": {
     "end_time": "2024-02-16T22:44:35.476648Z",
     "start_time": "2024-02-16T22:44:35.254482Z"
    }
   },
   "id": "b55002442a800099",
   "execution_count": 5
  },
  {
   "cell_type": "code",
   "outputs": [],
   "source": [
    "plot_df = pd.merge(quartiles, coords.groupby('valid_address').size().rename('size'), left_index=True, right_index=True)\n",
    "plot_df['radius'] = np.sqrt(plot_df['size'] + 1) #* (plot_df['q'] + 0.5) / 1.5\n",
    "plot_df = pd.merge(plot_df, coords[['lat', 'lng', 'valid_address']].drop_duplicates('valid_address'), left_index=True, right_on='valid_address')"
   ],
   "metadata": {
    "collapsed": false,
    "ExecuteTime": {
     "end_time": "2024-02-16T22:44:35.557393Z",
     "start_time": "2024-02-16T22:44:35.318778Z"
    }
   },
   "id": "1d995611e19f57a9",
   "execution_count": 6
  },
  {
   "cell_type": "code",
   "outputs": [],
   "source": [
    "plot_map(coords)"
   ],
   "metadata": {
    "collapsed": false,
    "ExecuteTime": {
     "end_time": "2024-02-16T22:44:39.829552Z",
     "start_time": "2024-02-16T22:44:35.364574Z"
    }
   },
   "id": "dd635ceca5a04186",
   "execution_count": 7
  }
 ],
 "metadata": {
  "kernelspec": {
   "display_name": "Python 3",
   "language": "python",
   "name": "python3"
  },
  "language_info": {
   "codemirror_mode": {
    "name": "ipython",
    "version": 2
   },
   "file_extension": ".py",
   "mimetype": "text/x-python",
   "name": "python",
   "nbconvert_exporter": "python",
   "pygments_lexer": "ipython2",
   "version": "2.7.6"
  }
 },
 "nbformat": 4,
 "nbformat_minor": 5
}
